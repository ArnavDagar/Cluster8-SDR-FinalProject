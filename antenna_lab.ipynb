{
  "cells": [
    {
      "cell_type": "code",
      "execution_count": 5,
      "id": "7f21eee5",
      "metadata": {
        "id": "7f21eee5"
      },
      "outputs": [],
      "source": [
        "# %% Import necessary libraries\n",
        "import matplotlib.pyplot as plt\n",
        "\n",
        "import numpy as np\n",
        "\n",
        "import adi\n",
        "\n",
        "from comms_lib.pluto import Pluto"
      ]
    },
    {
      "cell_type": "code",
      "execution_count": 24,
      "id": "f9829da7",
      "metadata": {
        "id": "f9829da7"
      },
      "outputs": [
        {
          "name": "stderr",
          "output_type": "stream",
          "text": [
            "ERROR: Unable to claim interface 0:5:5: Permission denied (13)\n"
          ]
        },
        {
          "ename": "Exception",
          "evalue": "No device found",
          "output_type": "error",
          "traceback": [
            "\u001b[31m---------------------------------------------------------------------------\u001b[39m",
            "\u001b[31mPermissionError\u001b[39m                           Traceback (most recent call last)",
            "\u001b[36mFile \u001b[39m\u001b[32m/opt/anaconda3/envs/cosmos_final/lib/python3.13/site-packages/adi/context_manager.py:36\u001b[39m, in \u001b[36mcontext_manager.__init__\u001b[39m\u001b[34m(self, uri, _device_name)\u001b[39m\n\u001b[32m     35\u001b[39m     \u001b[38;5;28;01melse\u001b[39;00m:\n\u001b[32m---> \u001b[39m\u001b[32m36\u001b[39m         \u001b[38;5;28mself\u001b[39m._ctx = \u001b[43miio\u001b[49m\u001b[43m.\u001b[49m\u001b[43mContext\u001b[49m\u001b[43m(\u001b[49m\u001b[38;5;28;43mself\u001b[39;49m\u001b[43m.\u001b[49m\u001b[43muri\u001b[49m\u001b[43m)\u001b[49m\n\u001b[32m     37\u001b[39m \u001b[38;5;28;01mexcept\u001b[39;00m \u001b[38;5;167;01mBaseException\u001b[39;00m:\n",
            "\u001b[36mFile \u001b[39m\u001b[32m/opt/anaconda3/envs/cosmos_final/lib/python3.13/site-packages/iio.py:1328\u001b[39m, in \u001b[36mContext.__init__\u001b[39m\u001b[34m(self, _context)\u001b[39m\n\u001b[32m   1327\u001b[39m \u001b[38;5;28;01melif\u001b[39;00m _isstring(_context):\n\u001b[32m-> \u001b[39m\u001b[32m1328\u001b[39m     \u001b[38;5;28mself\u001b[39m._context = \u001b[43m_new_uri\u001b[49m\u001b[43m(\u001b[49m\u001b[43m_context\u001b[49m\u001b[43m.\u001b[49m\u001b[43mencode\u001b[49m\u001b[43m(\u001b[49m\u001b[33;43m\"\u001b[39;49m\u001b[33;43mascii\u001b[39;49m\u001b[33;43m\"\u001b[39;49m\u001b[43m)\u001b[49m\u001b[43m)\u001b[49m\n\u001b[32m   1329\u001b[39m \u001b[38;5;28;01melse\u001b[39;00m:\n",
            "\u001b[36mFile \u001b[39m\u001b[32m/opt/anaconda3/envs/cosmos_final/lib/python3.13/site-packages/iio.py:56\u001b[39m, in \u001b[36m_check_null\u001b[39m\u001b[34m(result, func, arguments)\u001b[39m\n\u001b[32m     55\u001b[39m err = get_last_error() \u001b[38;5;28;01mif\u001b[39;00m \u001b[33m\"\u001b[39m\u001b[33mWindows\u001b[39m\u001b[33m\"\u001b[39m \u001b[38;5;129;01min\u001b[39;00m _system() \u001b[38;5;28;01melse\u001b[39;00m get_errno()\n\u001b[32m---> \u001b[39m\u001b[32m56\u001b[39m \u001b[38;5;28;01mraise\u001b[39;00m \u001b[38;5;167;01mOSError\u001b[39;00m(err, _strerror(err))\n",
            "\u001b[31mPermissionError\u001b[39m: [Errno 13] Permission denied",
            "\nDuring handling of the above exception, another exception occurred:\n",
            "\u001b[31mException\u001b[39m                                 Traceback (most recent call last)",
            "\u001b[36mCell\u001b[39m\u001b[36m \u001b[39m\u001b[32mIn[24]\u001b[39m\u001b[32m, line 4\u001b[39m\n\u001b[32m      1\u001b[39m \u001b[38;5;66;03m# %% Initialize Pluto SDR\u001b[39;00m\n\u001b[32m      2\u001b[39m sample_rate = \u001b[32m1e6\u001b[39m  \u001b[38;5;66;03m# baseband sampling rate (samples per second)\u001b[39;00m\n\u001b[32m----> \u001b[39m\u001b[32m4\u001b[39m sdr = \u001b[43madi\u001b[49m\u001b[43m.\u001b[49m\u001b[43mPluto\u001b[49m\u001b[43m(\u001b[49m\u001b[33;43m\"\u001b[39;49m\u001b[33;43musb:0.5.5\u001b[39;49m\u001b[33;43m\"\u001b[39;49m\u001b[43m)\u001b[49m\n\u001b[32m      5\u001b[39m sdr.carrier_frequency = \u001b[32m815e6\u001b[39m  \u001b[38;5;66;03m# Set carrier frequency for transmission and reception\u001b[39;00m\n\u001b[32m      6\u001b[39m sdr.sample_rate = \u001b[38;5;28mint\u001b[39m(sample_rate)  \u001b[38;5;66;03m# Set baseband sampling rate of Pluto\u001b[39;00m\n",
            "\u001b[36mFile \u001b[39m\u001b[32m/opt/anaconda3/envs/cosmos_final/lib/python3.13/site-packages/adi/rx_tx.py:734\u001b[39m, in \u001b[36mrx_tx_def.__init__\u001b[39m\u001b[34m(self, *args, **kwargs)\u001b[39m\n\u001b[32m    731\u001b[39m \u001b[38;5;28;01mdef\u001b[39;00m\u001b[38;5;250m \u001b[39m\u001b[34m__init__\u001b[39m(\n\u001b[32m    732\u001b[39m     \u001b[38;5;28mself\u001b[39m, *args: Union[\u001b[38;5;28mstr\u001b[39m, iio.Context], **kwargs: Union[\u001b[38;5;28mstr\u001b[39m, iio.Context]\n\u001b[32m    733\u001b[39m ) -> \u001b[38;5;28;01mNone\u001b[39;00m:\n\u001b[32m--> \u001b[39m\u001b[32m734\u001b[39m     \u001b[43mrx_def\u001b[49m\u001b[43m.\u001b[49m\u001b[34;43m__init__\u001b[39;49m\u001b[43m(\u001b[49m\u001b[38;5;28;43mself\u001b[39;49m\u001b[43m,\u001b[49m\u001b[43m \u001b[49m\u001b[43m*\u001b[49m\u001b[43margs\u001b[49m\u001b[43m,\u001b[49m\u001b[43m \u001b[49m\u001b[43m*\u001b[49m\u001b[43m*\u001b[49m\u001b[43mkwargs\u001b[49m\u001b[43m)\u001b[49m\n\u001b[32m    735\u001b[39m     tx_def.\u001b[34m__init__\u001b[39m(\u001b[38;5;28mself\u001b[39m, *args, **kwargs)\n\u001b[32m    737\u001b[39m     \u001b[38;5;28mself\u001b[39m.__post_init__()\n",
            "\u001b[36mFile \u001b[39m\u001b[32m/opt/anaconda3/envs/cosmos_final/lib/python3.13/site-packages/adi/rx_tx.py:653\u001b[39m, in \u001b[36mrx_def.__init__\u001b[39m\u001b[34m(self, *args, **kwargs)\u001b[39m\n\u001b[32m    649\u001b[39m \u001b[38;5;28;01mdef\u001b[39;00m\u001b[38;5;250m \u001b[39m\u001b[34m__init__\u001b[39m(\n\u001b[32m    650\u001b[39m     \u001b[38;5;28mself\u001b[39m, *args: Union[\u001b[38;5;28mstr\u001b[39m, iio.Context], **kwargs: Union[\u001b[38;5;28mstr\u001b[39m, iio.Context]\n\u001b[32m    651\u001b[39m ) -> \u001b[38;5;28;01mNone\u001b[39;00m:\n\u001b[32m--> \u001b[39m\u001b[32m653\u001b[39m     \u001b[43mshared_def\u001b[49m\u001b[43m.\u001b[49m\u001b[34;43m__init__\u001b[39;49m\u001b[43m(\u001b[49m\u001b[38;5;28;43mself\u001b[39;49m\u001b[43m,\u001b[49m\u001b[43m \u001b[49m\u001b[43m*\u001b[49m\u001b[43margs\u001b[49m\u001b[43m,\u001b[49m\u001b[43m \u001b[49m\u001b[43m*\u001b[49m\u001b[43m*\u001b[49m\u001b[43mkwargs\u001b[49m\u001b[43m)\u001b[49m\n\u001b[32m    655\u001b[39m     \u001b[38;5;28;01mif\u001b[39;00m \u001b[38;5;28mself\u001b[39m._rx_data_device_name:\n\u001b[32m    656\u001b[39m         \u001b[38;5;28mself\u001b[39m._rxadc = \u001b[38;5;28mself\u001b[39m._ctx.find_device(\u001b[38;5;28mself\u001b[39m._rx_data_device_name)\n",
            "\u001b[36mFile \u001b[39m\u001b[32m/opt/anaconda3/envs/cosmos_final/lib/python3.13/site-packages/adi/rx_tx.py:603\u001b[39m, in \u001b[36mshared_def.__init__\u001b[39m\u001b[34m(self, *args, **kwargs)\u001b[39m\n\u001b[32m    601\u001b[39m \u001b[38;5;28;01melif\u001b[39;00m uri_ctx:\n\u001b[32m    602\u001b[39m     \u001b[38;5;28mself\u001b[39m.uri = uri_ctx\n\u001b[32m--> \u001b[39m\u001b[32m603\u001b[39m     \u001b[43mcontext_manager\u001b[49m\u001b[43m.\u001b[49m\u001b[34;43m__init__\u001b[39;49m\u001b[43m(\u001b[49m\u001b[38;5;28;43mself\u001b[39;49m\u001b[43m,\u001b[49m\u001b[43m \u001b[49m\u001b[43muri_ctx\u001b[49m\u001b[43m,\u001b[49m\u001b[43m \u001b[49m\u001b[38;5;28;43mself\u001b[39;49m\u001b[43m.\u001b[49m\u001b[43m_device_name\u001b[49m\u001b[43m)\u001b[49m\n\u001b[32m    604\u001b[39m \u001b[38;5;28;01melse\u001b[39;00m:\n\u001b[32m    605\u001b[39m     required_devices = [\u001b[38;5;28mself\u001b[39m._rx_data_device_name, \u001b[38;5;28mself\u001b[39m._control_device_name]\n",
            "\u001b[36mFile \u001b[39m\u001b[32m/opt/anaconda3/envs/cosmos_final/lib/python3.13/site-packages/adi/context_manager.py:38\u001b[39m, in \u001b[36mcontext_manager.__init__\u001b[39m\u001b[34m(self, uri, _device_name)\u001b[39m\n\u001b[32m     36\u001b[39m         \u001b[38;5;28mself\u001b[39m._ctx = iio.Context(\u001b[38;5;28mself\u001b[39m.uri)\n\u001b[32m     37\u001b[39m \u001b[38;5;28;01mexcept\u001b[39;00m \u001b[38;5;167;01mBaseException\u001b[39;00m:\n\u001b[32m---> \u001b[39m\u001b[32m38\u001b[39m     \u001b[38;5;28;01mraise\u001b[39;00m \u001b[38;5;167;01mException\u001b[39;00m(\u001b[33m\"\u001b[39m\u001b[33mNo device found\u001b[39m\u001b[33m\"\u001b[39m)\n",
            "\u001b[31mException\u001b[39m: No device found"
          ]
        }
      ],
      "source": [
        "# %% Initialize Pluto SDR\n",
        "sample_rate = 1e6  # baseband sampling rate (samples per second)\n",
        "\n",
        "sdr = adi.Pluto(\"usb:0.5.5\")\n",
        "sdr.carrier_frequency = 815e6  # Set carrier frequency for transmission and reception\n",
        "sdr.sample_rate = int(sample_rate)  # Set baseband sampling rate of Pluto\n",
        "\n",
        "# %% Generate a signal to transmit\n",
        "N = 10000  # number of samples to transmit\n",
        "t = np.arange(N) / sample_rate  # time vector\n",
        "\n",
        "# TODO: generate a complex signal at 10kHz. Hint: use `np.exp`\n",
        "tx_signal = np.exp(1j * 2 * np.pi * 10e3 * t)  # 10kHz complex sinusoid\n",
        "\n",
        "# %% Transmit and receive signal\n",
        "# sdr.tx_gain = 0\n",
        "sdr.tx(tx_signal)\n",
        "\n",
        "rx_signal = sdr.rx()  # Capture raw samples from Pluto\n",
        "\n",
        "# plot the received signal\n",
        "plt.figure()\n",
        "plt.plot(np.real(rx_signal), np.imag(rx_signal), \".\")\n",
        "plt.xlabel(\"In-Phase (I)\")\n",
        "plt.ylabel(\"Quadrature (Q)\")\n",
        "plt.title(\"Received Signal in IQ Plane\")\n",
        "plt.grid(True)\n",
        "plt.axis(\"equal\")\n",
        "plt.show()\n",
        "\n",
        "# TODO: plot the fft of the received signal\n",
        "rx_fft = np.fft.fftshift(np.fft.fft(rx_signal))  # Compute FFT and shift to center zero frequency\n",
        "rx_fft_mag = 20 * np.log10(np.abs(rx_fft) + 1e-12)  # Convert to dB scale with small offset to avoid log(0)\n",
        "\n",
        "# Get the actual frequency of the FFT: from -sample_rate/2 to sample_rate/2\n",
        "f = np.linspace(-sample_rate / 2, sample_rate / 2, len(rx_fft))\n",
        "\n",
        "plt.figure()\n",
        "plt.plot(f / 1e3, rx_fft, color=\"black\")\n",
        "plt.xlabel(\"Frequency (kHz)\")\n",
        "plt.ylabel(\"Magnitude\")\n",
        "plt.title(\"Oversampled FFT of Received Signal\")\n",
        "plt.grid(True)\n",
        "plt.show()"
      ]
    },
    {
      "cell_type": "markdown",
      "id": "1b92cea4",
      "metadata": {
        "id": "1b92cea4"
      },
      "source": [
        "### Antenna Resonance Frequency\n",
        "\n",
        "As mentioned in the lecture, the resonance frequency of an antenna is determined by its physical dimensions. In the next section, we will empirically determine the resonance frequency of a dipole antenna by checking the received signal strength at various frequencies.\n",
        "\n",
        "- At each frequency, you can transmit the same test signal you used in the previous section.\n",
        "- Measure the received signal strength at each frequency. Hint: use `np.abs()` to get the absolute value of the received signal strength.\n",
        "- Plot the received signal strength against frequency to visualize the resonance frequency. What's the resonance frequency of the dipole antenna?"
      ]
    },
    {
      "cell_type": "code",
      "execution_count": null,
      "id": "7844e1cc",
      "metadata": {
        "id": "7844e1cc"
      },
      "outputs": [],
      "source": [
        "# %% Find the antenna resonance frequency by transmitting the same signal across dif\n",
        "# ferent frequencies\n",
        "frequencies = np.linspace(2000e6, 3000e6, 100)\n",
        "rx_powers = []\n",
        "\n",
        "for f in frequencies:\n",
        "    # TODO: complete this `for` loop to transmit and receive at each frequency\n",
        "    pass\n",
        "\n",
        "rx_powers = np.array(rx_powers) / np.max(rx_powers)  # Normalize the received powers\n",
        "rx_powers_db = 10 * np.log10(rx_powers)  # Convert to dB scale\n",
        "\n",
        "# TODO: plot the received powers against frequencies"
      ]
    }
  ],
  "metadata": {
    "colab": {
      "provenance": []
    },
    "kernelspec": {
      "display_name": "cosmos_final",
      "language": "python",
      "name": "python3"
    },
    "language_info": {
      "codemirror_mode": {
        "name": "ipython",
        "version": 3
      },
      "file_extension": ".py",
      "mimetype": "text/x-python",
      "name": "python",
      "nbconvert_exporter": "python",
      "pygments_lexer": "ipython3",
      "version": "3.13.5"
    }
  },
  "nbformat": 4,
  "nbformat_minor": 5
}
